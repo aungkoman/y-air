{
  "nbformat": 4,
  "nbformat_minor": 0,
  "metadata": {
    "colab": {
      "name": "Untitled12.ipynb",
      "provenance": []
    },
    "kernelspec": {
      "name": "python3",
      "display_name": "Python 3"
    }
  },
  "cells": [
    {
      "cell_type": "code",
      "metadata": {
        "id": "kE7UU2hfkGpQ"
      },
      "source": [
        "df.info()"
      ],
      "execution_count": null,
      "outputs": []
    },
    {
      "cell_type": "code",
      "metadata": {
        "id": "3KKuJzOakw2G"
      },
      "source": [
        "import numpy as np\n",
        "import pandas as pd\n",
        "from statsmodels.tsa.statespace.sarimax import SARIMAX\n",
        "from statsmodels.graphics.tsaplots import plot_acf,plot_pacf \n",
        "from statsmodels.tsa.seasonal import seasonal_decompose \n",
        "from pmdarima import auto_arima                        \n",
        "from sklearn.metrics import mean_squared_error\n",
        "from statsmodels.tools.eval_measures import rmse\n",
        "import warnings"
      ],
      "execution_count": null,
      "outputs": []
    },
    {
      "cell_type": "code",
      "metadata": {
        "id": "3U4mKAPmkw9N"
      },
      "source": [
        "warnings.filterwarnings(\"ignore\")\n",
        "df = pd.read_csv('/Purple Air Data.csv')\n",
        "df.head()\n",
        "df.Date = pd.to_datetime(df.Date)\n",
        "df = df.set_index(\"Date\")\n",
        "df.head()"
      ],
      "execution_count": null,
      "outputs": []
    },
    {
      "cell_type": "code",
      "metadata": {
        "id": "8HkQnzSAkUnR"
      },
      "source": [
        "df_pr = df.copy()\n",
        "df_pr = df.reset_index()\n",
        "df_pr.columns = ['ds','y'] # To use prophet column names should be like that\n",
        "train_data_pr = df_pr.iloc[:len(df)-12]\n",
        "test_data_pr = df_pr.iloc[len(df)-12:]"
      ],
      "execution_count": null,
      "outputs": []
    },
    {
      "cell_type": "code",
      "metadata": {
        "id": "IBKFlagrkYDf"
      },
      "source": [
        "from fbprophet import Prophet\n",
        "m = Prophet()\n",
        "m.fit(train_data_pr)\n",
        "future = m.make_future_dataframe(periods=12,freq='MS')\n",
        "prophet_pred = m.predict(future)\n",
        "prophet_pred.tail()"
      ],
      "execution_count": null,
      "outputs": []
    },
    {
      "cell_type": "code",
      "metadata": {
        "id": "3fUx4J74ka3G"
      },
      "source": [
        "prophet_pred = pd.DataFrame({\"Date\" : prophet_pred[-12:]['ds'], \"Pred\" : prophet_pred[-12:][\"yhat\"]})\n",
        "prophet_pred = prophet_pred.set_index(\"Date\")\n",
        "prophet_pred.index.freq = \"MS\"\n",
        "prophet_pred"
      ],
      "execution_count": null,
      "outputs": []
    },
    {
      "cell_type": "code",
      "metadata": {
        "id": "JElCbr5ikcve"
      },
      "source": [
        "\n",
        "test_data[\"Prophet_Predictions\"] = prophet_pred['Pred'].values\n",
        "import seaborn as sns\n",
        "plt.figure(figsize=(16,5))\n",
        "ax = sns.lineplot(x= test_data.index, y=test_data[\"AQI\"])\n",
        "sns.lineplot(x=test_data.index, y = test_data[\"Prophet_Predictions\"]);"
      ],
      "execution_count": null,
      "outputs": []
    },
    {
      "cell_type": "code",
      "metadata": {
        "id": "5kkgC0kjkfdG"
      },
      "source": [
        "prophet_rmse_error = rmse(test_data['AQI'], test_data[\"Prophet_Predictions\"])\n",
        "prophet_mse_error = prophet_rmse_error**2\n",
        "mean_value = df['AQI'].mean()\n",
        "\n",
        "print(f'MSE Error: {prophet_mse_error}\\nRMSE Error: {prophet_rmse_error}\\nMean: {mean_value}')"
      ],
      "execution_count": null,
      "outputs": []
    },
    {
      "cell_type": "code",
      "metadata": {
        "id": "Be0aDN4skibP"
      },
      "source": [
        "# The following code to create a dataframe and remove duplicated rows is always executed and acts as a preamble for your script: \n",
        "\n",
        "# dataset = pandas.DataFrame(Date, AQI)\n",
        "# dataset = dataset.drop_duplicates()\n",
        "\n",
        "# Paste or type your script code here:\n",
        "from matplotlib import pyplot as plt\n",
        "from statsmodels.tsa.arima_model import ARIMA, ARMAResults\n",
        "from pandas.tseries.offsets import DateOffset\n",
        "import statsmodels.api as sm\n",
        "import pandas as pd\n",
        "import plotly.graph_objects as go\n",
        "import pandas as pd\n",
        "\n",
        "dataset = pd.read_csv(\"Purple Air Data.csv\")\n",
        "\n",
        "dataset['Date']=pd.to_datetime(dataset['Date'])\n",
        "dataset.set_index('Date',inplace=True)\n",
        "\n",
        "future_dates=[dataset.index[-1]+ DateOffset(days=x)for x in range(0,24)]\n",
        "\n",
        "\n",
        "future_datest_dataset = pd.DataFrame(index=future_dates[1:],columns=dataset.columns)\n",
        "\n",
        "future_dataset=pd.concat([dataset,future_datest_dataset])\n",
        "\n",
        "\n",
        "model = sm.tsa.statespace.SARIMAX(future_dataset['AQI'].astype(float), order=(2,1,0),seasonal_order=(1,2,0,12))\n",
        "results = model.fit()\n",
        "future_dataset['forecast'] = results.predict(start=len(dataset), end= len(dataset)+22, dynamic=True)\n",
        "future_dataset[['AQI','forecast']].plot()\n",
        "plt.show()\n",
        "\n",
        "#future_dataset.to_csv(r'C:\\Users\\Acer\\Desktop\\7Mile_future_dataset.csv')"
      ],
      "execution_count": null,
      "outputs": []
    },
    {
      "cell_type": "code",
      "metadata": {
        "id": "sZu3AyXAkjS-"
      },
      "source": [
        ""
      ],
      "execution_count": null,
      "outputs": []
    },
    {
      "cell_type": "code",
      "metadata": {
        "id": "7mvi0uOJkroR"
      },
      "source": [
        ""
      ],
      "execution_count": null,
      "outputs": []
    }
  ]
}